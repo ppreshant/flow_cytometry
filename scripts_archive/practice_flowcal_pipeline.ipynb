{
 "cells": [
  {
   "cell_type": "markdown",
   "id": "1d24e584-b378-417f-9263-9ab73ea0af92",
   "metadata": {},
   "source": [
    "# Run and capture plots of FlowCal processing of flow cytometry data"
   ]
  },
  {
   "cell_type": "code",
   "execution_count": 3,
   "id": "31f5d574-68b2-429d-adac-8412996bde2b",
   "metadata": {},
   "outputs": [],
   "source": [
    "import os\n",
    "import sys\n",
    "# module_path = os.path.abspath(os.path.join('..'))\n",
    "os.chdir(\"..\") # set path to the head directory\n",
    "module_path = os.getcwd()\n",
    "if module_path not in sys.path:\n",
    "    sys.path.append(module_path)"
   ]
  },
  {
   "cell_type": "code",
   "execution_count": 4,
   "id": "66e346ab-4c34-45d7-bbc7-7787f3dbc0b0",
   "metadata": {},
   "outputs": [
    {
     "data": {
      "text/plain": [
       "['C:\\\\Users\\\\new\\\\Box Sync\\\\Stadler lab\\\\Data\\\\Flow cytometry (FACS)\\\\scripts_archive',\n",
       " 'C:\\\\Users\\\\new\\\\.conda\\\\envs\\\\flowcal\\\\python310.zip',\n",
       " 'C:\\\\Users\\\\new\\\\.conda\\\\envs\\\\flowcal\\\\DLLs',\n",
       " 'C:\\\\Users\\\\new\\\\.conda\\\\envs\\\\flowcal\\\\lib',\n",
       " 'C:\\\\Users\\\\new\\\\.conda\\\\envs\\\\flowcal',\n",
       " '',\n",
       " 'C:\\\\Users\\\\new\\\\.conda\\\\envs\\\\flowcal\\\\lib\\\\site-packages',\n",
       " 'C:\\\\Users\\\\new\\\\.conda\\\\envs\\\\flowcal\\\\lib\\\\site-packages\\\\flowcal-1.3.0-py3.10.egg',\n",
       " 'C:\\\\Users\\\\new\\\\.conda\\\\envs\\\\flowcal\\\\lib\\\\site-packages\\\\et_xmlfile-1.1.0-py3.10.egg',\n",
       " 'C:\\\\Users\\\\new\\\\.conda\\\\envs\\\\flowcal\\\\lib\\\\site-packages\\\\win32',\n",
       " 'C:\\\\Users\\\\new\\\\.conda\\\\envs\\\\flowcal\\\\lib\\\\site-packages\\\\win32\\\\lib',\n",
       " 'C:\\\\Users\\\\new\\\\.conda\\\\envs\\\\flowcal\\\\lib\\\\site-packages\\\\Pythonwin',\n",
       " 'C:\\\\Users\\\\new\\\\.conda\\\\envs\\\\flowcal\\\\lib\\\\site-packages\\\\IPython\\\\extensions',\n",
       " 'C:\\\\Users\\\\new\\\\.ipython',\n",
       " 'C:\\\\Users\\\\new\\\\Box Sync\\\\Stadler lab\\\\Data\\\\Flow cytometry (FACS)']"
      ]
     },
     "execution_count": 4,
     "metadata": {},
     "output_type": "execute_result"
    }
   ],
   "source": [
    "sys.path"
   ]
  },
  {
   "cell_type": "code",
   "execution_count": 24,
   "id": "2d12e7de-297b-48aa-8233-92664b6a4f2f",
   "metadata": {},
   "outputs": [],
   "source": [
    "from sspipe import p, px"
   ]
  },
  {
   "cell_type": "code",
   "execution_count": 17,
   "id": "90e892c7-0a9b-44ba-b0cd-dfc0cbd9f3e4",
   "metadata": {},
   "outputs": [
    {
     "name": "stderr",
     "output_type": "stream",
     "text": [
      "Traceback (most recent call last):\n",
      "  File \"C:\\Users\\new\\Box Sync\\Stadler lab\\Data\\Flow cytometry (FACS)\\scripts_archive\\flowcal_trial.py\", line 40, in <module>\n",
      "    from scripts_general_fns.g3_python_utils_facs import *\n",
      "ModuleNotFoundError: No module named 'scripts_general_fns'\n"
     ]
    }
   ],
   "source": [
    "!python scripts_archive/flowcal_trial.py"
   ]
  },
  {
   "cell_type": "code",
   "execution_count": 9,
   "id": "c7c7c638-fee6-4a53-870e-ab4a1ac05fc9",
   "metadata": {},
   "outputs": [],
   "source": [
    "# direct import works\n",
    "from scripts_general_fns import g3_python_utils_facs\n",
    "from scripts_general_fns.g3_python_utils_facs import *"
   ]
  },
  {
   "cell_type": "code",
   "execution_count": null,
   "id": "b0a7fafd-f232-415a-9416-348348ed057e",
   "metadata": {},
   "outputs": [],
   "source": []
  }
 ],
 "metadata": {
  "kernelspec": {
   "display_name": "Python 3 (ipykernel)",
   "language": "python",
   "name": "python3"
  },
  "language_info": {
   "codemirror_mode": {
    "name": "ipython",
    "version": 3
   },
   "file_extension": ".py",
   "mimetype": "text/x-python",
   "name": "python",
   "nbconvert_exporter": "python",
   "pygments_lexer": "ipython3",
   "version": "3.10.4"
  }
 },
 "nbformat": 4,
 "nbformat_minor": 5
}
